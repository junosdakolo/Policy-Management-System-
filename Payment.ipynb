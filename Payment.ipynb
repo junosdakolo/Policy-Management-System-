{
 "cells": [
  {
   "cell_type": "code",
   "execution_count": null,
   "metadata": {},
   "outputs": [],
   "source": [
    "class Payment:\n",
    "    def __init__(self, policyholder, product, amount):\n",
    "        self.policyholder = policyholder\n",
    "        self.product = product\n",
    "        self.amount = amount"
   ]
  }
 ],
 "metadata": {
  "language_info": {
   "name": "python"
  }
 },
 "nbformat": 4,
 "nbformat_minor": 2
}
