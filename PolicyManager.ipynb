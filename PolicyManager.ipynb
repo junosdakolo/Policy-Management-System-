{
 "cells": [
  {
   "cell_type": "code",
   "execution_count": null,
   "metadata": {},
   "outputs": [],
   "source": [
    "class PolicyManager:\n",
    "    def __init__(self):\n",
    "        self.policyholders = []\n",
    "        self.products = []\n",
    "\n",
    "    def add_policyholder(self, name, email):\n",
    "        policyholder = Policyholder(name, email)\n",
    "        self.policyholders.append(policyholder)\n",
    "\n",
    "    def suspend_policyholder(self, name):\n",
    "        for policyholder in self.policyholders:\n",
    "            if policyholder.name == name:\n",
    "                policyholder.status = \"suspended\"\n",
    "\n",
    "    def add_product(self, name, premium):\n",
    "        product = Product(name, premium)\n",
    "        self.products.append(product)\n",
    "\n",
    "    def suspend_product(self, name):\n",
    "        for product in self.products:\n",
    "            if product.name == name:\n",
    "                product.status = \"suspended\"\n",
    "\n",
    "    def register_member(self, policyholder_name, product_name):\n",
    "        for policyholder in self.policyholders:\n",
    "            if policyholder.name == policyholder_name:\n",
    "                for product in self.products:\n",
    "                    if product.name == product_name:\n",
    "                        policyholder.products.append(product)\n",
    "\n",
    "    def process_payment(self, policyholder_name, product_name, amount):\n",
    "        for policyholder in self.policyholders:\n",
    "            if policyholder.name == policyholder_name:\n",
    "                for product in policyholder.products:\n",
    "                    if product.name == product_name:\n",
    "                        payment = Payment(policyholder, product, amount)\n",
    "                        # Process payment logic here\n",
    "                        print(f\"Payment processed for {policyholder.name} - {product.name}\")\n",
    "\n",
    "    def display_account_details(self, policyholder_name):\n",
    "        for policyholder in self.policyholders:\n",
    "            if policyholder.name == policyholder_name:\n",
    "                print(f\"Policyholder: {policyholder.name}\")\n",
    "                print(f\"Email: {policyholder.email}\")\n",
    "                print(f\"Status: {policyholder.status}\")\n",
    "                print(\"Products:\")\n",
    "                for product in policyholder.products:\n",
    "                    print(f\"  - {product.name} ({product.premium})\")\n",
    "                print()"
   ]
  }
 ],
 "metadata": {
  "language_info": {
   "name": "python"
  }
 },
 "nbformat": 4,
 "nbformat_minor": 2
}
